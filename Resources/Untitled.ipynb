{
 "cells": [
  {
   "cell_type": "code",
   "execution_count": 33,
   "id": "84533c32-6cb7-4874-a0be-d36f670f7ff4",
   "metadata": {},
   "outputs": [],
   "source": [
    "def set_5():\n",
    "    return 5"
   ]
  },
  {
   "cell_type": "code",
   "execution_count": 35,
   "id": "b8dafb49-23a7-49bf-b374-d5ec6a0e6614",
   "metadata": {},
   "outputs": [],
   "source": [
    "def addum(num1, num2, num3=set_5() ):\n",
    "    return(num1 + num2 + num3)"
   ]
  },
  {
   "cell_type": "code",
   "execution_count": 37,
   "id": "32f255c5-9e91-409e-ace3-c674bc173d5c",
   "metadata": {},
   "outputs": [
    {
     "name": "stdout",
     "output_type": "stream",
     "text": [
      "result pass in 2,3,5: 10\n"
     ]
    }
   ],
   "source": [
    "result = addum(2,3,5)\n",
    "print(f\"result pass in 2,3,5: {result}\")"
   ]
  },
  {
   "cell_type": "code",
   "execution_count": 39,
   "id": "b64ebdb1-423b-46a0-b56d-9bbcb2ddf728",
   "metadata": {},
   "outputs": [
    {
     "name": "stdout",
     "output_type": "stream",
     "text": [
      "result pass in 2,3: 10\n"
     ]
    }
   ],
   "source": [
    "result = addum(2,3)\n",
    "print(f\"result pass in 2,3: {result}\")"
   ]
  },
  {
   "cell_type": "code",
   "execution_count": null,
   "id": "a6ae12e1-5c5c-4342-9a20-e772db82f4b5",
   "metadata": {},
   "outputs": [],
   "source": []
  }
 ],
 "metadata": {
  "kernelspec": {
   "display_name": "Python 3 (ipykernel)",
   "language": "python",
   "name": "python3"
  },
  "language_info": {
   "codemirror_mode": {
    "name": "ipython",
    "version": 3
   },
   "file_extension": ".py",
   "mimetype": "text/x-python",
   "name": "python",
   "nbconvert_exporter": "python",
   "pygments_lexer": "ipython3",
   "version": "3.12.4"
  }
 },
 "nbformat": 4,
 "nbformat_minor": 5
}
